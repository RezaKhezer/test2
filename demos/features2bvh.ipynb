{
 "cells": [
  {
   "cell_type": "code",
   "execution_count": 2,
   "metadata": {},
   "outputs": [
    {
     "name": "stdout",
     "output_type": "stream",
     "text": [
      "(178, 30)\n"
     ]
    }
   ],
   "source": [
    "import os\n",
    "import sys\n",
    "\n",
    "module_path = os.path.abspath(os.path.join('..'))\n",
    "if module_path not in sys.path:\n",
    "    sys.path.append(module_path)\n",
    "\n",
    "from pymo.parsers import BVHParser\n",
    "from pymo.data import Joint, MocapData\n",
    "from pymo.preprocessing import *\n",
    "from pymo.viz_tools import *\n",
    "from pymo.writers import *\n",
    "\n",
    "import joblib as jl\n",
    "\n",
    "# load data pipeline\n",
    "pipeline = jl.load('processed/data_pipe.sav')\n",
    "features = np.load(\"processed/AV_8Walk_Meredith_HVHA_Rep1.npz\")['clips']\n",
    "print(features.shape)\n",
    "\n",
    "# transform the data back to it's original shape\n",
    "# note: in a real scenario this is usually done with predicted data   \n",
    "# note: some transformations (such as transforming to joint positions) are not inversible\n",
    "bvh_data=pipeline.inverse_transform([features])\n",
    "\n",
    "# Test to write some of it to file for visualization in blender or motion builder\n",
    "writer = BVHWriter()\n",
    "with open('data/converted.bvh','w') as f:\n",
    "    writer.write(bvh_data[0], f)"
   ]
  }
 ],
 "metadata": {
  "kernelspec": {
   "display_name": "Python 3",
   "language": "python",
   "name": "python3"
  },
  "language_info": {
   "codemirror_mode": {
    "name": "ipython",
    "version": 3
   },
   "file_extension": ".py",
   "mimetype": "text/x-python",
   "name": "python",
   "nbconvert_exporter": "python",
   "pygments_lexer": "ipython3",
   "version": "3.6.8"
  }
 },
 "nbformat": 4,
 "nbformat_minor": 2
}
